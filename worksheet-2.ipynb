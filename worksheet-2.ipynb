{
 "cells": [
  {
   "cell_type": "markdown",
   "id": "6b68d97d",
   "metadata": {},
   "source": [
    "# Worksheet 2 - Scientific Visualization MVE080/MMG640\n",
    "## Directory of visualizations, color, and aesthetics"
   ]
  },
  {
   "cell_type": "markdown",
   "id": "ab4f66c7",
   "metadata": {},
   "source": [
    "Name: Elvina Fahlgren"
   ]
  },
  {
   "cell_type": "markdown",
   "id": "83051767",
   "metadata": {},
   "source": [
    "This is the second worksheet in the course *Scientific Visualization*. The purpose is to study various types of visualizations and how they are produced in Matplotlib. \n",
    "\n",
    "Once you're finished with all the tasks, export this document as an HTML-file and upload it in Canvas.\n",
    "You are encouraged to discuss problems and solutions with your fellow students (in the class-room but also on CampusWire), but each student must solve all tasks by themselves and hand-in their own report.\n",
    "Notice that Jupyter notebooks use [Markdown](https://docs.github.com/en/github/writing-on-github/getting-started-with-writing-and-formatting-on-github/basic-writing-and-formatting-syntax#links) for writing text cells. Make sure you understand the basics. Later on you can also include $\\LaTeX$ in your Markdown cells."
   ]
  },
  {
   "cell_type": "markdown",
   "id": "1c009aeb",
   "metadata": {},
   "source": [
    "## Setup\n",
    "Before we begin it is necessary to load a few Python modules that are needed. We can do that with the following commands (which only have to be run once, unless you restart the Jupyter kernel in which case you have to re-run them).\n",
    "\n",
    "In some of the tasks below we shall use an addon module to Matplotlib called [Seaborn](https://seaborn.pydata.org/index.html). It is entirely possible to solve all the tasks without using Seaborn (if you prefer), but many things are simplified with Seaborn. Furthermore, to handle tabular data (such as the data in an Excel-sheet), we shall use the module [Pandas](https://pandas.pydata.org/). Pandas is an open source data analysis toolbox that connects well with Matplotlib and in particular with Seaborn. Both Pandas and Seaborn are part of the Anaconda Python distribution and can be considered \"standard\" modules (meaning a lot of code use these modules)."
   ]
  },
  {
   "cell_type": "code",
   "execution_count": 2,
   "id": "bda6f246",
   "metadata": {},
   "outputs": [],
   "source": [
    "import numpy as np\n",
    "import matplotlib.pyplot as plt\n",
    "import pandas as pd\n",
    "import seaborn as sns"
   ]
  },
  {
   "cell_type": "markdown",
   "id": "2a62f368",
   "metadata": {},
   "source": [
    "## Task 1: colors and directory of visualizations\n",
    "\n",
    "Read Chapters 4, 19, and 5 of [Fundamentals of Data Visualizations](https://clauswilke.com/dataviz/), then answer the questions below.\n",
    "\n",
    "### Question 1.1\n",
    "When selecting a color scale (called _colormap_ in Matplotlib and _palette_ in Seaborn), how do the type of data influence the choice of color scale? Give examples.\n",
    "\n",
    "### Answer 1.1\n",
    "If we want to distinguish discrete groups of data from each other, a *qualitative* color scale is be a suitable choice. But using too many categories can make the figure hard to read, because it takes a lot of effort to go back and forth between item and matched color. Three to five different categories is good. \n",
    "\n",
    "If we want to represent data values which are larger or smaller than which other ones (for example temerature or speed), or visualize distance between data values, it is be a great choice to use a *sequential* color scale.\n",
    "\n",
    "By using a *diverging* color scale we can visualize the deviation of data values in one of two directions relative to a neutral point. It is important not to use red-green and blue-green contrast since these colors contrasts can become indistinguishable under cvd.\n",
    "\n",
    "If we would like to highlight specific elements in data, using an *accent* color scale is suitable. "
   ]
  },
  {
   "cell_type": "markdown",
   "id": "a5b2df16-ea25-4f96-902f-1964e86818ff",
   "metadata": {},
   "source": [
    "### Question 1.2\n",
    "The Seaborn module offers functionality for creating your own color scales.\n",
    "Read [this tutorial](https://seaborn.pydata.org/tutorial/color_palettes.html) on how to create palettes in Seaborn.\n",
    "What is a \"cubehelix\" palette? When is it useful?\n",
    "\n",
    "### Answer 1.2\n",
    "A *cubehelix* palette generates sequential palettes with a linear increase or decrease in bightness ans some continuous variation in hue. It is uesful when visualizing data that range between relatively uninteresting low values and interesting high values."
   ]
  },
  {
   "cell_type": "markdown",
   "id": "34ec1bfa-922d-42e5-92f9-683e1d359bbc",
   "metadata": {},
   "source": [
    "### Task 1.1\n",
    "Use Seaborn to design your own cubehelix sequential color scale. \n",
    "Then, in the tasks below, use this color scale whenever appropriate.\n",
    "\n",
    "**Hint:** Check out the Seaborn command [`choose_cubehelix_palette`](https://seaborn.pydata.org/generated/seaborn.choose_cubehelix_palette.html#seaborn.choose_cubehelix_palette)."
   ]
  },
  {
   "cell_type": "code",
   "execution_count": 3,
   "id": "e9ebf9b5-09db-4068-9bf4-16bf41cf92cf",
   "metadata": {},
   "outputs": [
    {
     "data": {
      "application/vnd.jupyter.widget-view+json": {
       "model_id": "554ab0ae87cf4b9c865566d4f55c59e0",
       "version_major": 2,
       "version_minor": 0
      },
      "text/plain": [
       "interactive(children=(IntSlider(value=9, description='n_colors', max=16, min=2), FloatSlider(value=0.0, descri…"
      ]
     },
     "metadata": {},
     "output_type": "display_data"
    },
    {
     "data": {
      "text/plain": [
       "<matplotlib.colors.LinearSegmentedColormap at 0x7f73a832a670>"
      ]
     },
     "execution_count": 3,
     "metadata": {},
     "output_type": "execute_result"
    }
   ],
   "source": [
    "sns.choose_cubehelix_palette(as_cmap=True)"
   ]
  },
  {
   "cell_type": "code",
   "execution_count": 4,
   "id": "e3e901ee",
   "metadata": {},
   "outputs": [],
   "source": [
    "colorscale = sns.cubehelix_palette(start = 2, rot =.55, gamma = 1, hue = .8, light = .9, dark = .15)"
   ]
  },
  {
   "cell_type": "markdown",
   "id": "1b143644-b047-4c93-a919-496f9d82af72",
   "metadata": {},
   "source": [
    "### Question 1.3\n",
    "The author describes 6 different types of 2D plots and discusses briefly their use. In some cases the data you have naturally limits which type of plots you can use (for example geospatial plots require geospatial data). But in many cases it is not at all obvious which type of plot to use. I want you to think carefully about a strategy for selecting which plot to use. This is an \"open question\", so there's no right or wrong. To help you get going, think about the data visualizations that you've been doing in other courses.\n",
    "\n",
    "### Answer 1.3\n",
    "_Explain your strategy for selecting plot type here. Try to be as concrete as possible: give examples of data (anything, either real or made up) and explain how your strategy applies to that data._\n",
    "\n",
    "things that variates during time (y depend on x) -> distributions\n"
   ]
  },
  {
   "cell_type": "markdown",
   "id": "4dabe43a",
   "metadata": {},
   "source": [
    "## Task 2: Pandas for tabular data\n",
    "\n",
    "![Pandas](https://images.squarespace-cdn.com/content/v1/5268c662e4b0269256614e9a/1562312824569-6LDHKN3X0QPA2ON2CPGZ/pandas-logo-300.png)\n",
    "\n",
    "First [watch this video introduction to Pandas](https://youtu.be/_T8LGqJtuGc).\n",
    "Then go to the [Pandas getting started tutorial page](https://pandas.pydata.org/docs/getting_started/intro_tutorials/) and go through the tutorials (you don't have to include the code-cells for this).\n",
    "\n",
    "As part of this work-sheet you are given 3 files containing temperature data from cities in Sweden (`smhi-gothenburg.csv`, `smhi-stockholm.csv`, and `smhi-malmoe.csv`). The data is saved in the [comma-separated values (CSV)](https://en.wikipedia.org/wiki/Comma-separated_values) format.\n",
    "This is a tabular format, similar in structure to an Excel sheet.\n",
    "\n",
    "Write code below to load the 3 CSV files using the Pandas `DataFrame` structure. \n",
    "Then combine the 3 data structures in a new `DataFrame` with a new column labelled \"City\" taking the values \"Stockholm\", \"Gothenburg\", or \"Malmoe\". Save your new Pandas data structure as a new CSV file."
   ]
  },
  {
   "cell_type": "code",
   "execution_count": 5,
   "id": "dd71a759",
   "metadata": {},
   "outputs": [
    {
     "name": "stdout",
     "output_type": "stream",
     "text": [
      "                                Start                 Stop  Year  Month  \\\n",
      "City      Row ID                                                          \n",
      "Stockholm 0       1936-01-01 00:00:01  1936-02-01 00:00:00  1936      1   \n",
      "          1       1936-02-01 00:00:01  1936-03-01 00:00:00  1936      2   \n",
      "          2       1936-03-01 00:00:01  1936-04-01 00:00:00  1936      3   \n",
      "          3       1936-04-01 00:00:01  1936-05-01 00:00:00  1936      4   \n",
      "          4       1936-05-01 00:00:01  1936-06-01 00:00:00  1936      5   \n",
      "...                               ...                  ...   ...    ...   \n",
      "Malmoe    1695    2021-03-01 00:00:01  2021-04-01 00:00:00  2021      3   \n",
      "          1696    2021-04-01 00:00:01  2021-05-01 00:00:00  2021      4   \n",
      "          1697    2021-05-01 00:00:01  2021-06-01 00:00:00  2021      5   \n",
      "          1698    2021-06-01 00:00:01  2021-07-01 00:00:00  2021      6   \n",
      "          1699    2021-07-01 00:00:01  2021-08-01 00:00:00  2021      7   \n",
      "\n",
      "                  Temperature Quality  \n",
      "City      Row ID                       \n",
      "Stockholm 0              -1.5       G  \n",
      "          1              -5.5       G  \n",
      "          2               0.5       G  \n",
      "          3               3.3       G  \n",
      "          4               9.7       G  \n",
      "...                       ...     ...  \n",
      "Malmoe    1695            4.0       Y  \n",
      "          1696            6.3       Y  \n",
      "          1697           10.6       Y  \n",
      "          1698           17.9       Y  \n",
      "          1699           20.0       Y  \n",
      "\n",
      "[3353 rows x 6 columns]\n"
     ]
    }
   ],
   "source": [
    "# Your code-cells here\n",
    "\n",
    "# load CSV files\n",
    "gothenburg = pd.read_csv(\"smhi-gothenburg.csv\")\n",
    "malmoe = pd.read_csv(\"smhi-malmoe.csv\")\n",
    "stockholm = pd.read_csv(\"smhi-stockholm.csv\")\n",
    "\n",
    "combined = pd.concat([stockholm, gothenburg, malmoe], keys = ['Stockholm', 'Gothenburg', 'Malmoe'], names = ['City', 'Row ID'])\n",
    "\n",
    "combined.to_csv('smhi-combined.csv')\n",
    "print(combined)\n"
   ]
  },
  {
   "cell_type": "markdown",
   "id": "d9fc8e36",
   "metadata": {},
   "source": [
    "## Task 3: Seaborn for plotting"
   ]
  },
  {
   "cell_type": "markdown",
   "id": "4b6e5712",
   "metadata": {},
   "source": [
    "![Seaborn](https://cmdlinetips.com/wp-content/uploads/2020/09/Seaborn_logo.png)\n",
    "\n",
    "Seaborn is a Python data visualization library based on Matplotlib. It provides a high-level interface for drawing attractive and informative graphics. It works especially well together with the Pandas `DataFrame` structure.\n",
    "\n",
    "### Task 3.1\n",
    "\n",
    "First work through the [Seaborn introduction](https://seaborn.pydata.org/introduction.html). Notice that the test data used in the tutorial is based on Pandas. You don't have to include the code-cells for the Seaborn tutorials.\n",
    "\n",
    "### Task 3.2\n",
    "\n",
    "Read Chapter 6 of [Fundamentals of Data Visualizations](https://clauswilke.com/dataviz/).\n",
    "Using the temperature `DataFrame` from Task 2, create two figures displaying the average temperature during Jan, April, July, and October in the three cities. \n",
    "- The first figure should be a **grouped bar plot**, where the group is the city. On the x-axis you should have the months. To generate grouped bar plots with Seaborn, see examples in the [categorical data plotting tutorial](https://seaborn.pydata.org/tutorial/categorical.html).\n",
    "- The second figure should also be a grouped bar plot, but now the group is the months. On the x-axis you should have the cities.\n",
    "\n",
    "Try to make your plots as identical as possible to [Figure 6.7 and 6.8 of the book](https://clauswilke.com/dataviz/visualizing-amounts.html) (but of course with different data and labels). To do this, it is helpful to first read the [Seaborn Plot aesthetics tutorial](https://seaborn.pydata.org/tutorial.html)."
   ]
  },
  {
   "cell_type": "code",
   "execution_count": 6,
   "id": "07d7e714",
   "metadata": {},
   "outputs": [
    {
     "name": "stdout",
     "output_type": "stream",
     "text": [
      "          City  Month  Temperature\n",
      "0    Stockholm    Jan    -2.896512\n",
      "1    Stockholm    Feb    -3.081395\n",
      "2    Stockholm    Mar    -0.020930\n",
      "3    Stockholm  April     4.958140\n",
      "4    Stockholm    May    10.551163\n",
      "5    Stockholm   Juni    15.256977\n",
      "6    Stockholm   July    17.673256\n",
      "7    Stockholm    Aug    16.556471\n",
      "8    Stockholm    Sep    12.065882\n",
      "9    Stockholm    Oct     7.030588\n",
      "10   Stockholm    Nov     2.548810\n",
      "11   Stockholm    Dec    -0.691765\n",
      "12  Gothenburg    Jan     0.066038\n",
      "13  Gothenburg    Feb     0.164151\n",
      "14  Gothenburg    Mar     2.526415\n",
      "15  Gothenburg  April     6.940741\n",
      "16  Gothenburg    May    12.023529\n",
      "17  Gothenburg   Juni    15.692308\n",
      "18  Gothenburg   July    17.698077\n",
      "19  Gothenburg    Aug    17.090196\n",
      "20  Gothenburg    Sep    13.413208\n",
      "21  Gothenburg    Oct     9.113462\n",
      "22  Gothenburg    Nov     4.725000\n",
      "23  Gothenburg    Dec     1.733333\n",
      "24      Malmoe    Jan     0.722535\n",
      "25      Malmoe    Feb     0.282394\n",
      "26      Malmoe    Mar     1.921831\n",
      "27      Malmoe  April     5.538732\n",
      "28      Malmoe    May    10.388028\n",
      "29      Malmoe   Juni    14.633803\n",
      "30      Malmoe   July    16.985915\n",
      "31      Malmoe    Aug    16.820567\n",
      "32      Malmoe    Sep    14.007801\n",
      "33      Malmoe    Oct     9.823404\n",
      "34      Malmoe    Nov     5.671631\n",
      "35      Malmoe    Dec     2.607042\n"
     ]
    }
   ],
   "source": [
    "# data frame of avegare temperature\n",
    "avg = pd.DataFrame(combined.groupby([\"City\", \"Month\"])[\"Temperature\"].mean())\n",
    "# make 'City' and 'Month to columns\n",
    "avg = avg.reset_index(level=['City', 'Month'])\n",
    "\n",
    "# replace month index to month string\n",
    "avg[\"Month\"] = avg[\"Month\"].replace({1 : \"Jan\", 2 : \"Feb\", 3: \"Mar\", 4 : \"April\", 5 :\"May\", 6 : \"Juni\", 7 : \"July\", 8 : \"Aug\", 9 : \"Sep\", 10 : \"Oct\", 11 : \"Nov\", 12 : \"Dec\"})\n",
    "\n",
    "print(avg)"
   ]
  },
  {
   "cell_type": "markdown",
   "id": "a6cafef1",
   "metadata": {},
   "source": [
    "#### First figure"
   ]
  },
  {
   "cell_type": "code",
   "execution_count": 7,
   "id": "efe6c1c1",
   "metadata": {},
   "outputs": [
    {
     "data": {
      "text/plain": [
       "[(-5.0, 20.0)]"
      ]
     },
     "execution_count": 7,
     "metadata": {},
     "output_type": "execute_result"
    },
    {
     "data": {
      "image/png": "[encoded data removed]",
      "text/plain": [
       "<Figure size 455.5x360 with 1 Axes>"
      ]
     },
     "metadata": {
      "needs_background": "light"
     },
     "output_type": "display_data"
    }
   ],
   "source": [
    "# uses a qualitative color palette since it is good for representing categorical data\n",
    "plot = sns.catplot(x = \"Month\", order = [\"Jan\", \"April\", \"July\", \"Oct\"], y = \"Temperature\", hue = \"City\", palette = \"Paired\", kind = \"bar\", data = avg)\n",
    "\n",
    "plot.ax.set(ylim=(-5,20))\n",
    "\n",
    "#plot = plot.ax.bar(1, 1, bottom=-10)"
   ]
  },
  {
   "cell_type": "markdown",
   "id": "56ef4ec2",
   "metadata": {},
   "source": [
    "#### Second figure"
   ]
  },
  {
   "cell_type": "code",
   "execution_count": 8,
   "id": "d9c33b2c-8dce-449d-9742-cefcd4c4e56d",
   "metadata": {},
   "outputs": [
    {
     "data": {
      "image/png": "[encoded data removed]",
      "text/plain": [
       "<Figure size 419x360 with 1 Axes>"
      ]
     },
     "metadata": {
      "needs_background": "light"
     },
     "output_type": "display_data"
    }
   ],
   "source": [
    "# data frame containing data for only jan, april, july and oct\n",
    "jan_apr_jul_oct = avg[avg[\"Month\"].isin([\"Jan\", \"April\", \"July\", \"Oct\"])]\n",
    "# uses a qualitative color palette because it is good for representing categorical data\n",
    "plot = sns.catplot(x = \"City\", y = \"Temperature\", hue = \"Month\", palette = \"Paired\", kind = \"bar\", data = jan_apr_jul_oct)"
   ]
  },
  {
   "cell_type": "markdown",
   "id": "f4ff77d4-a0e4-4743-92c6-79a542a858dd",
   "metadata": {},
   "source": [
    "### Question 3.1\n",
    "\n",
    "Of the two plots you made in Task 3.2, which one do you think works best? Explain your reasoning.\n",
    "\n",
    "### Answer 3.1\n",
    "\n",
    "I think the first figure works best for to interpret the temperature difference between the three cities. In the second figure it is easier to read the different temperatures between the month in each city. However, the second plot could have been divided into induvidual plots for each city since it does not really illustrates the distinction of temperatures between the cities. "
   ]
  },
  {
   "cell_type": "markdown",
   "id": "9d7208ad",
   "metadata": {},
   "source": [
    "## Task 4: Visualizing distributions"
   ]
  },
  {
   "cell_type": "markdown",
   "id": "d16f4f37",
   "metadata": {},
   "source": [
    "Read Chapter 7 and Chapter 9 of [Fundamentals of Data Visualizations](https://clauswilke.com/dataviz/).\n",
    "Using the temperature data structure that you created in Task 2, create one or several figures displaying the temperature distribution throughout the whole year for each of the three cities. I'm not telling you which of the distribution visualization type to use: make sure you study the figures in Chapters 7 and 9 carefully, judge their pros and cons. You probably need to try many different types of distribution plots (each with one or several figures included) before you settle on which is the best.\n",
    "\n",
    "**Hint:** Useful information about using Seaborn for visualizing distributions can be found in [this tutorial](https://seaborn.pydata.org/tutorial/distributions.html)."
   ]
  },
  {
   "cell_type": "code",
   "execution_count": 16,
   "id": "6cc83536",
   "metadata": {},
   "outputs": [
    {
     "data": {
      "text/plain": [
       "<seaborn.axisgrid.FacetGrid at 0x7f737556fcd0>"
      ]
     },
     "execution_count": 16,
     "metadata": {},
     "output_type": "execute_result"
    },
    {
     "data": {
      "image/png": "[encoded data removed]",
      "text/plain": [
       "<Figure size 360x360 with 1 Axes>"
      ]
     },
     "metadata": {
      "needs_background": "light"
     },
     "output_type": "display_data"
    }
   ],
   "source": [
    "# Your code-cells for the temperature distribution plots here.\n",
    "\n",
    "# data frame of avegare temperature\n",
    "avg = pd.DataFrame(combined.groupby([\"City\", \"Month\"])[\"Temperature\"].mean())\n",
    "# make 'City' and 'Month to columns\n",
    "avg = avg.reset_index(level=['City', 'Month'])\n",
    "\"\"\"\n",
    "plt.figure(figsize=(20, 5))\n",
    "plt.subplot(131)\n",
    "x = avg.Month\n",
    "plt.ax = sns.distplot(x, rug=False, hist=False)\n",
    "\"\"\"\n",
    "\n",
    "sns.displot(avg, x=\"Month\", kind=\"kde\")\n",
    "\n",
    "#sns.displot(avg, x=\"Month\", hue=\"City\", kind=\"kde\", multiple = \"stack\")"
   ]
  },
  {
   "cell_type": "markdown",
   "id": "bcd95c6c-2b8f-41b4-916d-fb5afd98f8f0",
   "metadata": {},
   "source": [
    "### Question 4.1\n",
    "Explain, with clear motivations, what made you choose the type of visualization you used. Also, explain all the visualization types you tested and why in the end you did not use them.\n",
    "\n",
    "### Answer 4.1\n",
    "_Provide you answer here_"
   ]
  },
  {
   "cell_type": "markdown",
   "id": "ab176774-1ade-449d-b606-17c62376dcc1",
   "metadata": {},
   "source": [
    "## Task 5: Visualizing time-series and trends\n",
    "\n",
    "![Image](https://seaborn.pydata.org/_images/regression_17_0.png)\n",
    "\n",
    "Read Chapter 13 and Chapter 14 of [Fundamentals of Data Visualizations](https://clauswilke.com/dataviz/).\n",
    "\n",
    "### Task 5.1\n",
    "\n",
    "Use the temperature data from Task 2 to display, for each city, how temperature is varying with month of the year. Do it in three different ways:\n",
    "\n",
    "1. Using an x-y-scatter plot (with month on the x-axis, and make sure the ticks are labelled by month names, not numbers).\n",
    "2. Using a polar scatter plot, with angle corresponding to the month scale and radius corresponding to the temperature scale. Take into account that the average temperature during some months are negative.\n",
    "3. Using a _heat map_, similar to Figure 2.4 in [Fundamentals of Data Visualizations](https://clauswilke.com/dataviz/). Remember to use your own cubehelix palette."
   ]
  },
  {
   "cell_type": "code",
   "execution_count": 11,
   "id": "e9865f2c-2104-4136-b18f-dcb64f30313e",
   "metadata": {},
   "outputs": [],
   "source": [
    "# Your code-cells here."
   ]
  },
  {
   "cell_type": "markdown",
   "id": "dcb4bd15-78e5-46c1-8cfd-534889709c27",
   "metadata": {},
   "source": [
    "### Question 5.1\n",
    "\n",
    "Chapter 14 discusses the LOESS smoother. In Seaborn the [LOWESS smoother](https://en.wikipedia.org/wiki/Local_regression) is implemented. When is it appropriate to use a smoother? What is the difference between LOESS and LOWESS?\n",
    "\n",
    "### Answer 5.1\n",
    "_Your answer here_\n",
    "\n",
    "### Task 5.1\n",
    "\n",
    "Based on what you've learned in Chapter 14 and 15, make a visualization that for each city shows the temperature trends for January, April, July, and October from 1961 to today. Try various types of regression models, motivate your choice. Also motivate why you choose to include or not to include scatter plots and/or confidence intervals in your final plot.\n",
    "\n",
    "**Hint:** Read the [Seaborn tutorial on regression models](https://seaborn.pydata.org/tutorial/regression.html)."
   ]
  },
  {
   "cell_type": "code",
   "execution_count": 12,
   "id": "ddbfd509-a9d3-473b-98ff-c408ddedf810",
   "metadata": {},
   "outputs": [],
   "source": [
    "# Your code-cells here"
   ]
  },
  {
   "cell_type": "markdown",
   "id": "917230ec-db48-49e0-b47e-192e198934dc",
   "metadata": {},
   "source": [
    "_Your markdown cells here explaining and motivating your choices_"
   ]
  },
  {
   "cell_type": "markdown",
   "id": "9c0f53be-bf5e-4acd-bfd3-007299414b5e",
   "metadata": {},
   "source": [
    "## Task 6: Reflection\n",
    "\n",
    "### Question 6.1\n",
    "In general, when you create a visualization of some data it is because you want to illustrate something about the data. In Tasks 3-5 above you have used the same data (average monthly temperatures in three cities) to produce many different plots. What particular aspect of the data are you conveying in each plot? This question is a bit like Jeopardy: I give you the answers (your plots), you give me the questions (what aspects of the data are the plots showing)."
   ]
  },
  {
   "cell_type": "markdown",
   "id": "8f537975-7f07-48b9-b622-cf08ca4290c1",
   "metadata": {},
   "source": [
    "### Answer 6.1\n",
    "\n",
    "_Your answer here_"
   ]
  }
 ],
 "metadata": {
  "kernelspec": {
   "display_name": "Python 3 (ipykernel)",
   "language": "python",
   "name": "python3"
  },
  "language_info": {
   "codemirror_mode": {
    "name": "ipython",
    "version": 3
   },
   "file_extension": ".py",
   "mimetype": "text/x-python",
   "name": "python",
   "nbconvert_exporter": "python",
   "pygments_lexer": "ipython3",
   "version": "3.8.8"
  }
 },
 "nbformat": 4,
 "nbformat_minor": 5
}
